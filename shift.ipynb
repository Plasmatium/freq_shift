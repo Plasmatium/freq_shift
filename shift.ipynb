{
 "cells": [
  {
   "cell_type": "code",
   "execution_count": 18,
   "metadata": {
    "collapsed": false,
    "deletable": true,
    "editable": true
   },
   "outputs": [
    {
     "name": "stderr",
     "output_type": "stream",
     "text": [
      "/usr/local/lib/python3.6/site-packages/ipykernel/__main__.py:2: DeprecationWarning: `Tracer` is deprecated since version 5.1, directly use `IPython.core.debugger.Pdb.set_trace()`\n",
      "  from ipykernel import kernelapp as app\n"
     ]
    }
   ],
   "source": [
    "from IPython.core.debugger import Tracer\n",
    "set_trace = Tracer()"
   ]
  },
  {
   "cell_type": "code",
   "execution_count": 1,
   "metadata": {
    "collapsed": false,
    "deletable": true,
    "editable": true
   },
   "outputs": [
    {
     "name": "stdout",
     "output_type": "stream",
     "text": [
      "Using matplotlib backend: MacOSX\n"
     ]
    }
   ],
   "source": [
    "import numpy as np\n",
    "%matplotlib\n",
    "from pylab import plot\n",
    "pi = np.pi\n",
    "e = np.e\n",
    "fft = np.fft.fft\n",
    "sin = np.sin"
   ]
  },
  {
   "cell_type": "code",
   "execution_count": 2,
   "metadata": {
    "collapsed": true,
    "deletable": true,
    "editable": true
   },
   "outputs": [],
   "source": [
    "def get5(a):\n",
    "    return a[110:115]"
   ]
  },
  {
   "cell_type": "code",
   "execution_count": 4,
   "metadata": {
    "collapsed": true,
    "deletable": true,
    "editable": true
   },
   "outputs": [],
   "source": [
    "a = np.arange(0,1,1/44100)\n",
    "fs = 44.1*1000\n",
    "framesize = 2048\n",
    "fb = fs/framesize"
   ]
  },
  {
   "cell_type": "code",
   "execution_count": 5,
   "metadata": {
    "collapsed": false,
    "deletable": true,
    "editable": true
   },
   "outputs": [],
   "source": [
    "fres1 = fb*112\n",
    "fres2 = fb*112.2\n",
    "fres3 = fb*112.49\n",
    "fres4 = fb*112.50"
   ]
  },
  {
   "cell_type": "code",
   "execution_count": 6,
   "metadata": {
    "collapsed": true,
    "deletable": true,
    "editable": true
   },
   "outputs": [],
   "source": [
    "class Ps:\n",
    "    def __init__(self, freq):\n",
    "        for i in range(5):\n",
    "            key = 'c'+str(i)\n",
    "            data = sin(2*pi*freq*a[2048*i:2048*(i+1)])\n",
    "            self.__dict__.update({key:data})\n",
    "            \n",
    "            key = 'fft'+str(i)\n",
    "            fft_data = fft(data)\n",
    "            self.__dict__.update({key: fft_data})  "
   ]
  },
  {
   "cell_type": "code",
   "execution_count": 7,
   "metadata": {
    "collapsed": true,
    "deletable": true,
    "editable": true
   },
   "outputs": [],
   "source": [
    "def get5ang(d):\n",
    "    ang = []\n",
    "    for i in range(5):\n",
    "        key = 'fft'+str(i)\n",
    "        data = d.__dict__[key][110:115]\n",
    "        ang.append(np.angle(data))\n",
    "    return ang\n",
    "\n",
    "def diff(ang):\n",
    "    return [np.round(ang[i+1]-ang[i],6) for i in range(len(ang)-1)]"
   ]
  },
  {
   "cell_type": "code",
   "execution_count": 4,
   "metadata": {
    "collapsed": false,
    "deletable": true,
    "editable": true
   },
   "outputs": [],
   "source": [
    "gtmp = []\n",
    "\n",
    "def norm2pi(phase):\n",
    "    # about qpd is:\n",
    "    # -7 to -8, 7 to 8;\n",
    "    # -4 to -4, 4 to 4;\n",
    "    qpd = (phase/pi).astype(int)\n",
    "    qpd += np.sign(qpd)*(qpd&1)\n",
    "    return phase - pi*qpd # here phase is in -pi~pi\n",
    "\n",
    "def ana(audioData, spRate=44100, frameSize=2048, ovrSmp=4):   \n",
    "    stepSize = frameSize//ovrSmp\n",
    "    freqPerBin = spRate/frameSize\n",
    "    expct = 2.0*pi*(stepSize/frameSize)\n",
    "    \n",
    "    # split the data\n",
    "    blocks = len(audioData)//stepSize\n",
    "    dataFrames = [audioData[stepSize*n:(stepSize*n+frameSize)] for n in range(blocks)]\n",
    "    rsltFrames = [0.]*blocks\n",
    "    gSumPhase = np.array([0.]*frameSize)\n",
    "    gOutputAccum = np.array([0.]*frameSize)\n",
    "    \n",
    "    # 窗函数\n",
    "    k_range = np.arange(0,frameSize,1)\n",
    "    # window = .5*(1-np.cos(2.*pi*k_range/(frameSize-1)))\n",
    "    window = 0.53836 - 0.46164*np.cos(2.*pi*k_range/(frameSize-1))\n",
    "    # window = e**(-0.5*((k_range-(frameSize-1)/2)/(0.5*(frameSize-1)/2))**2)\n",
    "    \n",
    "    # analysis\n",
    "    lastPhase = np.array([0.]*frameSize)\n",
    "    for idx, frame in enumerate(dataFrames):\n",
    "        # 加窗\n",
    "        fftData = fft(frame*window)\n",
    "        \n",
    "        #########\n",
    "        #break\n",
    "        global gtmp\n",
    "        #gtmp = fftData\n",
    "        #plot(frame*window)\n",
    "        #return\n",
    "        #########       \n",
    "        \n",
    "        # 幅值之所以乘以2，是因为将频谱后半部分归零，ifft之后幅值降为一半\n",
    "        # 要不然的话，就得把频谱前半部分镜像对称到后半部分，不如归零再乘2\n",
    "        # 来的方便\n",
    "        magn = 2*abs(fftData)\n",
    "        phase = np.angle(fftData)\n",
    "        \n",
    "        tmp = phase - lastPhase\n",
    "        lastPhase = phase\n",
    "        \n",
    "        tmp -= k_range*expct\n",
    "\n",
    "        thePhase = tmp\n",
    "        theMagn = magn\n",
    "\n",
    "        # about qpd is:\n",
    "        # -7 to -8, 7 to 8;\n",
    "        # -4 to -4, 4 to 4;\n",
    "        #qpd = (tmp/pi).astype(int)\n",
    "        #qpd += np.sign(qpd)*(qpd&1)\n",
    "        #tmp -= pi*qpd # here tmp is in -pi~pi\n",
    "        tmp = norm2pi(tmp)\n",
    "        \n",
    "        tmp = ovrSmp*tmp/(2*pi)\n",
    "\n",
    "        theFreq = (k_range + tmp)*freqPerBin\n",
    "\n",
    "        #===============================\n",
    "        # We got theFreq theMagn and thePhase here.\n",
    "        # Do something with theFreq, and then synthesis\n",
    "        # new complex array (with Euler's formula：\n",
    "        # magn * e ** (angle * pi))\n",
    "\n",
    "        lambda x:x(theFreq)\n",
    "\n",
    "        #set_trace()\n",
    "        # Calc new phase\n",
    "        tmp = theFreq\n",
    "        tmp = tmp/freqPerBin - k_range\n",
    "        tmp = 2*pi*ovrSmp + k_range*expct\n",
    "       \n",
    "        gSumPhase += tmp\n",
    "        thePhase = gSumPhase\n",
    "        \n",
    "        k = np.append(np.ones(frameSize//2), np.zeros(frameSize//2))\n",
    "        theFFT = theMagn*e**(thePhase*1j) * k\n",
    "        rawFrame = np.real( np.fft.ifft(theFFT) )\n",
    "        \n",
    "        gOutputAccum += 2*window*rawFrame\n",
    "        stepFrame = gOutputAccum[:stepSize]\n",
    "        \n",
    "        #rsltFrames[idx] = theFrame\n",
    "        \n",
    "        #########\n",
    "        plot(theFreq)\n",
    "        plot(k_range*(spRate/frameSize))\n",
    "        f = spRate/frameSize\n",
    "        print(f)\n",
    "        print(theFreq[int(123/f)])\n",
    "        \n",
    "        return theFreq\n",
    "    \n",
    "    return np.concatenate(rsltFrames)"
   ]
  },
  {
   "cell_type": "code",
   "execution_count": 29,
   "metadata": {
    "collapsed": false,
    "deletable": true,
    "editable": true
   },
   "outputs": [],
   "source": [
    "def ana2(audioData, spRate=44100, frameSize=2048, ovrSmp=4, pitchShift=1):   \n",
    "    stepSize = frameSize//ovrSmp\n",
    "    freqPerBin = spRate/frameSize\n",
    "    expct = 2.0*pi*(stepSize/frameSize)\n",
    "    \n",
    "    # split the data\n",
    "    blocks = len(audioData)//stepSize\n",
    "    dataFrames = [audioData[stepSize*n:(stepSize*n+frameSize)] for n in range(blocks)]\n",
    "    rsltFrames = [0.]*blocks\n",
    "    gSumPhase = np.array([0.]*frameSize)\n",
    "    gOutputAccum = np.array([0.]*frameSize)\n",
    "    \n",
    "    # 窗函数\n",
    "    k_range = np.arange(0,frameSize,1)\n",
    "    # window = .5*(1-np.cos(2.*pi*k_range/(frameSize-1)))\n",
    "    window = 0.53836 - 0.46164*np.cos(2.*pi*k_range/(frameSize-1))\n",
    "    # window = e**(-0.5*((k_range-(frameSize-1)/2)/(0.5*(frameSize-1)/2))**2)\n",
    "    \n",
    "    # analysis\n",
    "    # lastPhase = np.array([0.]*frameSize)\n",
    "    for idx, frame in enumerate(dataFrames):\n",
    "        # 加窗\n",
    "        fftData = fft(frame*window)\n",
    "        rsltData = np.zeros(len(fftData)).astype('complex128')\n",
    "        \n",
    "        for i,_ in enumerate(fftData):\n",
    "            index = round(i*pitchShift)\n",
    "            if index >= len(fftData)//2:\n",
    "                break\n",
    "            \n",
    "            rsltData[index] = fftData[i]\n",
    "        \n",
    "        rsltData *= 2\n",
    "        rsltFrame = np.real(np.fft.ifft(rsltData))/window\n",
    "        rsltFrames[idx] = rsltFrame\n",
    "    return rsltFrames"
   ]
  },
  {
   "cell_type": "code",
   "execution_count": 30,
   "metadata": {
    "collapsed": false,
    "deletable": true,
    "editable": true
   },
   "outputs": [],
   "source": [
    "fq = 123\n",
    "x = np.arange(0,1,1/44100)\n",
    "y = np.sin(2*pi*fq*x)+0.8*np.sin(2*pi*fq*2*x)+0.64*np.sin(2*pi*fq*4*x)\n",
    "#plot(x,y)"
   ]
  },
  {
   "cell_type": "code",
   "execution_count": 35,
   "metadata": {
    "collapsed": false,
    "deletable": true,
    "editable": true,
    "scrolled": true
   },
   "outputs": [
    {
     "ename": "ValueError",
     "evalue": "operands could not be broadcast together with shapes (1604,) (2048,) ",
     "output_type": "error",
     "traceback": [
      "\u001b[0;31m-------------------------------------------------------\u001b[0m",
      "\u001b[0;31mValueError\u001b[0m            Traceback (most recent call last)",
      "\u001b[0;32m<ipython-input-35-760d6d4f961b>\u001b[0m in \u001b[0;36m<module>\u001b[0;34m()\u001b[0m\n\u001b[0;32m----> 1\u001b[0;31m \u001b[0may\u001b[0m \u001b[0;34m=\u001b[0m \u001b[0mana2\u001b[0m\u001b[0;34m(\u001b[0m\u001b[0my\u001b[0m\u001b[0;34m,\u001b[0m \u001b[0movrSmp\u001b[0m\u001b[0;34m=\u001b[0m\u001b[0;36m4\u001b[0m\u001b[0;34m,\u001b[0m \u001b[0mpitchShift\u001b[0m \u001b[0;34m=\u001b[0m \u001b[0;36m1.25\u001b[0m\u001b[0;34m)\u001b[0m\u001b[0;34m\u001b[0m\u001b[0m\n\u001b[0m",
      "\u001b[0;32m<ipython-input-29-985c37abb890>\u001b[0m in \u001b[0;36mana2\u001b[0;34m(audioData, spRate, frameSize, ovrSmp, pitchShift)\u001b[0m\n\u001b[1;32m     21\u001b[0m     \u001b[0;32mfor\u001b[0m \u001b[0midx\u001b[0m\u001b[0;34m,\u001b[0m \u001b[0mframe\u001b[0m \u001b[0;32min\u001b[0m \u001b[0menumerate\u001b[0m\u001b[0;34m(\u001b[0m\u001b[0mdataFrames\u001b[0m\u001b[0;34m)\u001b[0m\u001b[0;34m:\u001b[0m\u001b[0;34m\u001b[0m\u001b[0m\n\u001b[1;32m     22\u001b[0m         \u001b[0;31m# 加窗\u001b[0m\u001b[0;34m\u001b[0m\u001b[0;34m\u001b[0m\u001b[0m\n\u001b[0;32m---> 23\u001b[0;31m         \u001b[0mfftData\u001b[0m \u001b[0;34m=\u001b[0m \u001b[0mfft\u001b[0m\u001b[0;34m(\u001b[0m\u001b[0mframe\u001b[0m\u001b[0;34m*\u001b[0m\u001b[0mwindow\u001b[0m\u001b[0;34m)\u001b[0m\u001b[0;34m\u001b[0m\u001b[0m\n\u001b[0m\u001b[1;32m     24\u001b[0m         \u001b[0mrsltData\u001b[0m \u001b[0;34m=\u001b[0m \u001b[0mnp\u001b[0m\u001b[0;34m.\u001b[0m\u001b[0mzeros\u001b[0m\u001b[0;34m(\u001b[0m\u001b[0mlen\u001b[0m\u001b[0;34m(\u001b[0m\u001b[0mfftData\u001b[0m\u001b[0;34m)\u001b[0m\u001b[0;34m)\u001b[0m\u001b[0;34m.\u001b[0m\u001b[0mastype\u001b[0m\u001b[0;34m(\u001b[0m\u001b[0;34m'complex128'\u001b[0m\u001b[0;34m)\u001b[0m\u001b[0;34m\u001b[0m\u001b[0m\n\u001b[1;32m     25\u001b[0m \u001b[0;34m\u001b[0m\u001b[0m\n",
      "\u001b[0;31mValueError\u001b[0m: operands could not be broadcast together with shapes (1604,) (2048,) "
     ]
    }
   ],
   "source": [
    "ay = ana2(y, ovrSmp=4, pitchShift = 1.25)"
   ]
  },
  {
   "cell_type": "code",
   "execution_count": 34,
   "metadata": {
    "collapsed": false,
    "deletable": true,
    "editable": true,
    "scrolled": true
   },
   "outputs": [
    {
     "data": {
      "text/plain": [
       "[<matplotlib.lines.Line2D at 0x10dfb9eb8>]"
      ]
     },
     "execution_count": 34,
     "metadata": {},
     "output_type": "execute_result"
    }
   ],
   "source": [
    "plot(ay[0])\n",
    "plot(ay[1])"
   ]
  },
  {
   "cell_type": "code",
   "execution_count": null,
   "metadata": {
    "collapsed": true
   },
   "outputs": [],
   "source": []
  }
 ],
 "metadata": {
  "kernelspec": {
   "display_name": "Python 3",
   "language": "python",
   "name": "python3"
  },
  "language_info": {
   "codemirror_mode": {
    "name": "ipython",
    "version": 3
   },
   "file_extension": ".py",
   "mimetype": "text/x-python",
   "name": "python",
   "nbconvert_exporter": "python",
   "pygments_lexer": "ipython3",
   "version": "3.6.0"
  }
 },
 "nbformat": 4,
 "nbformat_minor": 2
}
