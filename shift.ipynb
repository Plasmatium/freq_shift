{
 "cells": [
  {
   "cell_type": "code",
   "execution_count": 1,
   "metadata": {
    "collapsed": false,
    "deletable": true,
    "editable": true
   },
   "outputs": [
    {
     "name": "stdout",
     "output_type": "stream",
     "text": [
      "Using matplotlib backend: MacOSX\n"
     ]
    }
   ],
   "source": [
    "import numpy as np\n",
    "%matplotlib\n",
    "from pylab import *\n",
    "pi = np.pi\n",
    "fft = np.fft.fft\n",
    "sin = np.sin"
   ]
  },
  {
   "cell_type": "code",
   "execution_count": 2,
   "metadata": {
    "collapsed": true,
    "deletable": true,
    "editable": true
   },
   "outputs": [],
   "source": [
    "def get5(a):\n",
    "    return a[110:115]"
   ]
  },
  {
   "cell_type": "code",
   "execution_count": 3,
   "metadata": {
    "collapsed": true,
    "deletable": true,
    "editable": true
   },
   "outputs": [],
   "source": [
    "a = np.arange(0,1,1/44100)\n",
    "fs = 44.1*1000\n",
    "framesize = 2048\n",
    "fb = fs/framesize"
   ]
  },
  {
   "cell_type": "code",
   "execution_count": 4,
   "metadata": {
    "collapsed": false,
    "deletable": true,
    "editable": true
   },
   "outputs": [],
   "source": [
    "fres1 = fb*112\n",
    "fres2 = fb*112.2\n",
    "fres3 = fb*112.49\n",
    "fres4 = fb*112.50"
   ]
  },
  {
   "cell_type": "code",
   "execution_count": 5,
   "metadata": {
    "collapsed": true,
    "deletable": true,
    "editable": true
   },
   "outputs": [],
   "source": [
    "class Ps:\n",
    "    def __init__(self, freq):\n",
    "        for i in range(5):\n",
    "            key = 'c'+str(i)\n",
    "            data = sin(2*pi*freq*a[2048*i:2048*(i+1)])\n",
    "            self.__dict__.update({key:data})\n",
    "            \n",
    "            key = 'fft'+str(i)\n",
    "            fft_data = fft(data)\n",
    "            self.__dict__.update({key: fft_data})  "
   ]
  },
  {
   "cell_type": "code",
   "execution_count": 6,
   "metadata": {
    "collapsed": true,
    "deletable": true,
    "editable": true
   },
   "outputs": [],
   "source": [
    "def get5ang(d):\n",
    "    ang = []\n",
    "    for i in range(5):\n",
    "        key = 'fft'+str(i)\n",
    "        data = d.__dict__[key][110:115]\n",
    "        ang.append(np.angle(data))\n",
    "    return ang\n",
    "\n",
    "def diff(ang):\n",
    "    return [np.round(ang[i+1]-ang[i],6) for i in range(len(ang)-1)]"
   ]
  },
  {
   "cell_type": "code",
   "execution_count": 7,
   "metadata": {
    "collapsed": true,
    "deletable": true,
    "editable": true
   },
   "outputs": [],
   "source": [
    "def ana(audioData, spRate=44100, frameSize=2048, ovrSmp=4):    \n",
    "    stepSize = int(frameSize/ovrSmp)\n",
    "    freqPerBin = spRate/frameSize\n",
    "    expct = 2.0*pi*(stepSize/frameSize)\n",
    "    \n",
    "    # split the data\n",
    "    blocks = int(len(audioData)/stepSize)\n",
    "    dataFrames = [audioData[stepSize*n:(stepSize*n+frameSize)] for n in range(blocks)]\n",
    "    \n",
    "    # analysis\n",
    "    lastPhase = np.array([0]*frameSize)\n",
    "    k_range = np.arange(0,frameSize,1)\n",
    "    for frame in dataFrames:\n",
    "        fftData = fft(dataBlock)\n",
    "        \n",
    "        # inspect each bin freq in this frame\n",
    "        # k is current bin number, while frameSize is bin count, and bin freq from 0~spRate/2\n",
    "        magn = 2*abs(fftData)\n",
    "        phase = np.angle(fftData)\n",
    "        \n",
    "        tmp = phase - lastPhase\n",
    "        lastPhase = phase\n",
    "        \n",
    "        tmp -= k_range*expct\n",
    "        \n",
    "        \n",
    "        for k in range(frameSize):\n",
    "            val = fftData[k]\n",
    "            \n",
    "            magn = 2*abs(val)\n",
    "            phase = np.angle(val)\n",
    "            \n",
    "            tmp = phase - lastPhase[k]\n",
    "            lastPhase[k] = phase\n",
    "            \n",
    "            tmp -= k*expct\n",
    "            \n",
    "            qpd = int(tmp/pi)\n",
    "            qpd += np.sign(qpd)\n",
    "    \n",
    "    return dataSet"
   ]
  },
  {
   "cell_type": "code",
   "execution_count": 8,
   "metadata": {
    "collapsed": false,
    "deletable": true,
    "editable": true
   },
   "outputs": [],
   "source": [
    "d1 = Ps(fres1)\n",
    "d2 = Ps(fres2)\n",
    "d3 = Ps(fres3)\n",
    "d4 = Ps(fres4)\n",
    "\n",
    "ag1, ag2, ag3, ag4 = [get5ang(d) for d in (d1, d2, d3, d4)]\n",
    "dag1, dag2, dag3, dag4 = [diff(d) for d in (ag1, ag2, ag3, ag4)]"
   ]
  },
  {
   "cell_type": "code",
   "execution_count": 9,
   "metadata": {
    "collapsed": false,
    "deletable": true,
    "editable": true
   },
   "outputs": [
    {
     "data": {
      "text/plain": [
       "[array([ 0.264369,  0.1069  , -0.      , -0.152089, -0.095732]),\n",
       " array([-0.029631, -0.068484, -0.      , -0.116236, -0.161437]),\n",
       " array([-0.284919, -0.145362, -0.      ,  0.10517 ,  0.014863]),\n",
       " array([ 0.484701,  0.358071, -0.      ,  0.156315,  0.236575])]"
      ]
     },
     "execution_count": 9,
     "metadata": {},
     "output_type": "execute_result"
    }
   ],
   "source": [
    "dag1"
   ]
  },
  {
   "cell_type": "code",
   "execution_count": 10,
   "metadata": {
    "collapsed": false,
    "deletable": true,
    "editable": true
   },
   "outputs": [
    {
     "data": {
      "text/plain": [
       "[array([ 1.2458  ,  1.250757,  1.255662, -5.022669, -5.017864]),\n",
       " array([ 1.256   ,  1.256306,  1.256585,  1.256837,  1.257063]),\n",
       " array([ 1.268371,  1.263014,  1.257696,  1.252417,  1.247178]),\n",
       " array([-5.04493 , -5.036544, -5.028209,  1.263261,  1.271495])]"
      ]
     },
     "execution_count": 10,
     "metadata": {},
     "output_type": "execute_result"
    }
   ],
   "source": [
    "dag2"
   ]
  },
  {
   "cell_type": "code",
   "execution_count": 11,
   "metadata": {
    "collapsed": false,
    "deletable": true,
    "editable": true
   },
   "outputs": [
    {
     "data": {
      "text/plain": [
       "[array([ 3.080028,  3.079518,  3.07901 , -3.204683, -3.205189]),\n",
       " array([-3.203245, -3.20372 , -3.204193,  3.078521,  3.078052]),\n",
       " array([ 3.079834,  3.079401,  3.078971, -3.204642, -3.205066]),\n",
       " array([-3.203474, -3.203859, -3.204239,  3.078569,  3.078196])]"
      ]
     },
     "execution_count": 11,
     "metadata": {},
     "output_type": "execute_result"
    }
   ],
   "source": [
    "dag3"
   ]
  },
  {
   "cell_type": "code",
   "execution_count": 12,
   "metadata": {
    "collapsed": false,
    "deletable": true,
    "editable": true
   },
   "outputs": [
    {
     "data": {
      "text/plain": [
       "[array([ 3.141593,  3.141593,  3.141593, -3.141593, -3.141593]),\n",
       " array([-3.141593, -3.141593, -3.141593,  3.141593,  3.141593]),\n",
       " array([ 3.141593,  3.141593,  3.141593, -3.141593, -3.141593]),\n",
       " array([-3.141593, -3.141593, -3.141593,  3.141593,  3.141593])]"
      ]
     },
     "execution_count": 12,
     "metadata": {},
     "output_type": "execute_result"
    }
   ],
   "source": [
    "dag4"
   ]
  },
  {
   "cell_type": "code",
   "execution_count": 13,
   "metadata": {
    "collapsed": false,
    "deletable": true,
    "editable": true,
    "scrolled": false
   },
   "outputs": [
    {
     "data": {
      "text/plain": [
       "[array([-0.93781789, -0.93996718, -0.94206448,  2.19748184,  2.19548548]),\n",
       " array([ 0.30798208,  0.31078977,  0.31359766, -2.82518688, -2.82237856]),\n",
       " array([ 1.56398206,  1.56709567,  1.57018221, -1.5683503 , -1.56531588]),\n",
       " array([ 2.83235325,  2.83010922,  2.82787807, -0.31593282, -0.31813814]),\n",
       " array([-2.21257697, -2.20643504, -2.20033111,  0.94732777,  0.9533566 ])]"
      ]
     },
     "execution_count": 13,
     "metadata": {},
     "output_type": "execute_result"
    }
   ],
   "source": [
    "ag2"
   ]
  },
  {
   "cell_type": "code",
   "execution_count": 15,
   "metadata": {
    "collapsed": false,
    "deletable": true,
    "editable": true
   },
   "outputs": [
    {
     "ename": "NameError",
     "evalue": "name 'fFT' is not defined",
     "output_type": "error",
     "traceback": [
      "\u001b[0;31m---------------------------------------------------------------\u001b[0m",
      "\u001b[0;31mNameError\u001b[0m                     Traceback (most recent call last)",
      "\u001b[0;32m<ipython-input-15-68fc59cee8dc>\u001b[0m in \u001b[0;36m<module>\u001b[0;34m()\u001b[0m\n\u001b[0;32m----> 1\u001b[0;31m \u001b[0mplot\u001b[0m\u001b[0;34m(\u001b[0m\u001b[0mabs\u001b[0m\u001b[0;34m(\u001b[0m\u001b[0mfFT\u001b[0m\u001b[0;34m)\u001b[0m\u001b[0;34m)\u001b[0m\u001b[0;34m\u001b[0m\u001b[0m\n\u001b[0m",
      "\u001b[0;31mNameError\u001b[0m: name 'fFT' is not defined"
     ]
    }
   ],
   "source": [
    "plot(abs(fFT))"
   ]
  },
  {
   "cell_type": "code",
   "execution_count": 16,
   "metadata": {
    "collapsed": false,
    "deletable": true,
    "editable": true
   },
   "outputs": [
    {
     "ename": "NameError",
     "evalue": "name 'rFFT' is not defined",
     "output_type": "error",
     "traceback": [
      "\u001b[0;31m---------------------------------------------------------------\u001b[0m",
      "\u001b[0;31mNameError\u001b[0m                     Traceback (most recent call last)",
      "\u001b[0;32m<ipython-input-16-ccafc26afd99>\u001b[0m in \u001b[0;36m<module>\u001b[0;34m()\u001b[0m\n\u001b[0;32m----> 1\u001b[0;31m \u001b[0mplot\u001b[0m\u001b[0;34m(\u001b[0m\u001b[0mabs\u001b[0m\u001b[0;34m(\u001b[0m\u001b[0mrFFT\u001b[0m\u001b[0;34m)\u001b[0m\u001b[0;34m)\u001b[0m\u001b[0;34m\u001b[0m\u001b[0m\n\u001b[0m",
      "\u001b[0;31mNameError\u001b[0m: name 'rFFT' is not defined"
     ]
    }
   ],
   "source": [
    "plot(abs(rFFT))"
   ]
  },
  {
   "cell_type": "code",
   "execution_count": 161,
   "metadata": {
    "collapsed": false,
    "deletable": true,
    "editable": true
   },
   "outputs": [
    {
     "data": {
      "text/plain": [
       "array([-3995847.00000000      +0.j        ,\n",
       "       -1454311.87890575-2759031.70592437j,\n",
       "        2533608.51226792-2994892.30442922j, ...,\n",
       "        3416570.02025424 -211968.90377112j,\n",
       "        2533608.51226795+2994892.30442919j,\n",
       "       -1454311.87890573+2759031.70592439j])"
      ]
     },
     "execution_count": 161,
     "metadata": {},
     "output_type": "execute_result"
    }
   ],
   "source": [
    "fFT"
   ]
  },
  {
   "cell_type": "code",
   "execution_count": 162,
   "metadata": {
    "collapsed": false,
    "deletable": true,
    "editable": true
   },
   "outputs": [
    {
     "data": {
      "text/plain": [
       "array([ -3.99584700e+06 +0.00000000e+00j,\n",
       "        -1.45431188e+06 -2.75903171e+06j,\n",
       "         2.53360851e+06 -2.99489230e+06j, ...,\n",
       "        -4.79607709e+03 +5.75356143e+02j,\n",
       "        -2.32506451e+03 +3.66406903e+03j,   6.33000000e+02 +0.00000000e+00j])"
      ]
     },
     "execution_count": 162,
     "metadata": {},
     "output_type": "execute_result"
    }
   ],
   "source": [
    "rFFT"
   ]
  },
  {
   "cell_type": "code",
   "execution_count": 171,
   "metadata": {
    "collapsed": false,
    "deletable": true,
    "editable": true
   },
   "outputs": [
    {
     "data": {
      "text/plain": [
       "True"
      ]
     },
     "execution_count": 171,
     "metadata": {},
     "output_type": "execute_result"
    }
   ],
   "source": [
    "np.allclose(fFT[0:int(len(fFT)/2)], rFFT[0:-1])"
   ]
  }
 ],
 "metadata": {
  "kernelspec": {
   "display_name": "Python 3",
   "language": "python",
   "name": "python3"
  },
  "language_info": {
   "codemirror_mode": {
    "name": "ipython",
    "version": 3
   },
   "file_extension": ".py",
   "mimetype": "text/x-python",
   "name": "python",
   "nbconvert_exporter": "python",
   "pygments_lexer": "ipython3",
   "version": "3.6.0"
  }
 },
 "nbformat": 4,
 "nbformat_minor": 2
}
