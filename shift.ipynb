{
 "cells": [
  {
   "cell_type": "code",
   "execution_count": 89,
   "metadata": {
    "collapsed": false,
    "deletable": true,
    "editable": true
   },
   "outputs": [
    {
     "name": "stderr",
     "output_type": "stream",
     "text": [
      "c:\\users\\jonny.wong\\appdata\\local\\programs\\python\\python36-32\\lib\\site-packages\\ipykernel\\__main__.py:3: DeprecationWarning: `Tracer` is deprecated since version 5.1, directly use `IPython.core.debugger.Pdb.set_trace()`\n",
      "  app.launch_new_instance()\n"
     ]
    }
   ],
   "source": [
    "from IPython.core.debugger import Tracer\n",
    "from scipy.io import wavfile\n",
    "set_trace = Tracer()"
   ]
  },
  {
   "cell_type": "code",
   "execution_count": 3,
   "metadata": {
    "collapsed": false,
    "deletable": true,
    "editable": true
   },
   "outputs": [
    {
     "name": "stdout",
     "output_type": "stream",
     "text": [
      "Using matplotlib backend: TkAgg\n"
     ]
    }
   ],
   "source": [
    "import numpy as np\n",
    "%matplotlib\n",
    "from pylab import plot\n",
    "pi = np.pi\n",
    "e = np.e\n",
    "fft = np.fft.fft\n",
    "sin = np.sin"
   ]
  },
  {
   "cell_type": "code",
   "execution_count": 2,
   "metadata": {
    "collapsed": true,
    "deletable": true,
    "editable": true
   },
   "outputs": [],
   "source": [
    "def get5(a):\n",
    "    return a[110:115]"
   ]
  },
  {
   "cell_type": "code",
   "execution_count": 4,
   "metadata": {
    "collapsed": true,
    "deletable": true,
    "editable": true
   },
   "outputs": [],
   "source": [
    "a = np.arange(0,1,1/44100)\n",
    "fs = 44.1*1000\n",
    "framesize = 2048\n",
    "fb = fs/framesize"
   ]
  },
  {
   "cell_type": "code",
   "execution_count": 5,
   "metadata": {
    "collapsed": false,
    "deletable": true,
    "editable": true
   },
   "outputs": [],
   "source": [
    "fres1 = fb*112\n",
    "fres2 = fb*112.2\n",
    "fres3 = fb*112.49\n",
    "fres4 = fb*112.50"
   ]
  },
  {
   "cell_type": "code",
   "execution_count": 6,
   "metadata": {
    "collapsed": true,
    "deletable": true,
    "editable": true
   },
   "outputs": [],
   "source": [
    "class Ps:\n",
    "    def __init__(self, freq):\n",
    "        for i in range(5):\n",
    "            key = 'c'+str(i)\n",
    "            data = sin(2*pi*freq*a[2048*i:2048*(i+1)])\n",
    "            self.__dict__.update({key:data})\n",
    "            \n",
    "            key = 'fft'+str(i)\n",
    "            fft_data = fft(data)\n",
    "            self.__dict__.update({key: fft_data})  "
   ]
  },
  {
   "cell_type": "code",
   "execution_count": 7,
   "metadata": {
    "collapsed": true,
    "deletable": true,
    "editable": true
   },
   "outputs": [],
   "source": [
    "def get5ang(d):\n",
    "    ang = []\n",
    "    for i in range(5):\n",
    "        key = 'fft'+str(i)\n",
    "        data = d.__dict__[key][110:115]\n",
    "        ang.append(np.angle(data))\n",
    "    return ang\n",
    "\n",
    "def diff(ang):\n",
    "    return [np.round(ang[i+1]-ang[i],6) for i in range(len(ang)-1)]"
   ]
  },
  {
   "cell_type": "code",
   "execution_count": 4,
   "metadata": {
    "collapsed": false,
    "deletable": true,
    "editable": true
   },
   "outputs": [],
   "source": [
    "gtmp = []\n",
    "\n",
    "def norm2pi(phase):\n",
    "    # about qpd is:\n",
    "    # -7 to -8, 7 to 8;\n",
    "    # -4 to -4, 4 to 4;\n",
    "    qpd = (phase/pi).astype(int)\n",
    "    qpd += np.sign(qpd)*(qpd&1)\n",
    "    return phase - pi*qpd # here phase is in -pi~pi\n",
    "\n",
    "def ana(audioData, spRate=44100, frameSize=4096, ovrSmp=4):   \n",
    "    stepSize = frameSize//ovrSmp\n",
    "    freqPerBin = spRate/frameSize\n",
    "    expct = 2.0*pi*(stepSize/frameSize)\n",
    "    \n",
    "    # split the data\n",
    "    blocks = len(audioData)//stepSize\n",
    "    dataFrames = [audioData[stepSize*n:(stepSize*n+frameSize)] for n in range(blocks)]\n",
    "    rsltFrames = [0.]*blocks\n",
    "    gSumPhase = np.array([0.]*frameSize)\n",
    "    gOutputAccum = np.array([0.]*frameSize)\n",
    "    \n",
    "    # 窗函数\n",
    "    k_range = np.arange(0,frameSize,1)\n",
    "    # window = .5*(1-np.cos(2.*pi*k_range/(frameSize-1)))\n",
    "    window = 0.53836 - 0.46164*np.cos(2.*pi*k_range/(frameSize-1))\n",
    "    # window = e**(-0.5*((k_range-(frameSize-1)/2)/(0.5*(frameSize-1)/2))**2)\n",
    "    \n",
    "    # analysis\n",
    "    lastPhase = np.array([0.]*frameSize)\n",
    "    for idx, frame in enumerate(dataFrames):\n",
    "        # 加窗\n",
    "        fftData = fft(frame*window)\n",
    "        \n",
    "        #########\n",
    "        #break\n",
    "        global gtmp\n",
    "        #gtmp = fftData\n",
    "        #plot(frame*window)\n",
    "        #return\n",
    "        #########       \n",
    "        \n",
    "        # 幅值之所以乘以2，是因为将频谱后半部分归零，ifft之后幅值降为一半\n",
    "        # 要不然的话，就得把频谱前半部分镜像对称到后半部分，不如归零再乘2\n",
    "        # 来的方便\n",
    "        magn = 2*abs(fftData)\n",
    "        phase = np.angle(fftData)\n",
    "        \n",
    "        tmp = phase - lastPhase\n",
    "        lastPhase = phase\n",
    "        \n",
    "        tmp -= k_range*expct\n",
    "\n",
    "        thePhase = tmp\n",
    "        theMagn = magn\n",
    "\n",
    "        # about qpd is:\n",
    "        # -7 to -8, 7 to 8;\n",
    "        # -4 to -4, 4 to 4;\n",
    "        #qpd = (tmp/pi).astype(int)\n",
    "        #qpd += np.sign(qpd)*(qpd&1)\n",
    "        #tmp -= pi*qpd # here tmp is in -pi~pi\n",
    "        tmp = norm2pi(tmp)\n",
    "        \n",
    "        tmp = ovrSmp*tmp/(2*pi)\n",
    "\n",
    "        theFreq = (k_range + tmp)*freqPerBin\n",
    "\n",
    "        #===============================\n",
    "        # We got theFreq theMagn and thePhase here.\n",
    "        # Do something with theFreq, and then synthesis\n",
    "        # new complex array (with Euler's formula：\n",
    "        # magn * e ** (angle * pi))\n",
    "\n",
    "        lambda x:x(theFreq)\n",
    "\n",
    "        #set_trace()\n",
    "        # Calc new phase\n",
    "        tmp = theFreq\n",
    "        tmp = tmp/freqPerBin - k_range\n",
    "        tmp = 2*pi*ovrSmp + k_range*expct\n",
    "       \n",
    "        gSumPhase += tmp\n",
    "        thePhase = gSumPhase\n",
    "        \n",
    "        k = np.append(np.ones(frameSize//2), np.zeros(frameSize//2))\n",
    "        theFFT = theMagn*e**(thePhase*1j) * k\n",
    "        rawFrame = np.real( np.fft.ifft(theFFT) )\n",
    "        \n",
    "        gOutputAccum += 2*window*rawFrame\n",
    "        stepFrame = gOutputAccum[:stepSize]\n",
    "        \n",
    "        #rsltFrames[idx] = theFrame\n",
    "        \n",
    "        #########\n",
    "        plot(theFreq)\n",
    "        plot(k_range*(spRate/frameSize))\n",
    "        f = spRate/frameSize\n",
    "        print(f)\n",
    "        print(theFreq[int(123/f)])\n",
    "        \n",
    "        return theFreq\n",
    "    \n",
    "    return np.concatenate(rsltFrames)"
   ]
  },
  {
   "cell_type": "code",
   "execution_count": 77,
   "metadata": {
    "collapsed": false,
    "deletable": true,
    "editable": true
   },
   "outputs": [],
   "source": [
    "def ana2(audioData, spRate=44100, frameSize=4096, ovrSmp=4, pitchShift=1):   \n",
    "    stepSize = frameSize//ovrSmp\n",
    "    freqPerBin = spRate/frameSize\n",
    "    expct = 2.0*pi*(stepSize/frameSize)\n",
    "    \n",
    "    # split the data\n",
    "    blocks = len(audioData)//stepSize\n",
    "    dataFrames = [audioData[stepSize*n:(stepSize*n+frameSize)] for n in range(blocks)]\n",
    "    rsltFrames = [0.]*blocks\n",
    "    gSumPhase = np.array([0.]*frameSize)\n",
    "    gOutputAccum = np.array([0.]*frameSize)\n",
    "    \n",
    "    # 窗函数\n",
    "    k_range = np.arange(0,frameSize,1)\n",
    "    # window = .5*(1-np.cos(2.*pi*k_range/(frameSize-1)))\n",
    "    window = 0.53836 - 0.46164*np.cos(2.*pi*k_range/(frameSize-1))\n",
    "    window2 = 0.53836 - 0.46164*np.cos(2.*pi*k_range*2/(frameSize-1))\n",
    "    # window = e**(-0.5*((k_range-(frameSize-1)/2)/(0.5*(frameSize-1)/2))**2)\n",
    "    \n",
    "    # analysis\n",
    "    # lastPhase = np.array([0.]*frameSize)\n",
    "    for idx, frame in enumerate(dataFrames):\n",
    "        # 加窗\n",
    "        fftData = fft(frame*window)\n",
    "        rsltData = np.zeros(len(fftData)).astype('complex128')\n",
    "        k = np.append(np.ones(frameSize//2), np.zeros(frameSize//2))\n",
    "        '''\n",
    "        for i,_ in enumerate(fftData):\n",
    "            index = round(i*pitchShift)\n",
    "            if index >= len(fftData)//2:\n",
    "                break\n",
    "            \n",
    "            rsltData[index] = fftData[i]\n",
    "        '''\n",
    "        rsltData = resample(fftData, int(pitchShift*len(fftData)))\n",
    "        factor = np.sign(abs(rsltData)-200)+1\n",
    "        rsltData *= factor\n",
    "        \n",
    "        #plot(window2)\n",
    "        #plot(window)\n",
    "        #plot(abs(rsltData))\n",
    "        #plot(abs(fftData))\n",
    "        plot(np.fft.ifft(rsltData[0:frameSize]*k)/window2)\n",
    "        plot(np.fft.ifft(fftData))\n",
    "        return\n",
    "        \n",
    "        rsltData *= 2\n",
    "        rsltFrame = np.real(np.fft.ifft(rsltData))/wind\n",
    "        ow\n",
    "        rsltFrames[idx] = rsltFrame\n",
    "    return rsltFrames"
   ]
  },
  {
   "cell_type": "code",
   "execution_count": 78,
   "metadata": {
    "collapsed": false,
    "deletable": true,
    "editable": true
   },
   "outputs": [],
   "source": [
    "fq = 123\n",
    "x = np.arange(0,1,1/44100)\n",
    "y = np.sin(2*pi*fq*x)+0.8*np.sin(2*pi*fq*2*x)+0.64*np.sin(2*pi*fq*4*x)\n",
    "#plot(x,y)"
   ]
  },
  {
   "cell_type": "code",
   "execution_count": 79,
   "metadata": {
    "collapsed": false,
    "deletable": true,
    "editable": true
   },
   "outputs": [
    {
     "name": "stderr",
     "output_type": "stream",
     "text": [
      "c:\\users\\jonny.wong\\appdata\\local\\programs\\python\\python36-32\\lib\\site-packages\\numpy\\core\\numeric.py:531: ComplexWarning: Casting complex values to real discards the imaginary part\n",
      "  return array(a, dtype, copy=False, order=order)\n"
     ]
    }
   ],
   "source": [
    "ay = ana2(y, ovrSmp=1, pitchShift = 1.25)"
   ]
  },
  {
   "cell_type": "code",
   "execution_count": 537,
   "metadata": {
    "collapsed": false,
    "deletable": true,
    "editable": true,
    "scrolled": true
   },
   "outputs": [
    {
     "data": {
      "text/plain": [
       "[<matplotlib.lines.Line2D at 0x3ac67430>]"
      ]
     },
     "execution_count": 537,
     "metadata": {},
     "output_type": "execute_result"
    }
   ],
   "source": [
    "plot(ay[0])\n",
    "plot(ay[1])\n",
    "plot(np.append(ay[0], ay[1]))\n",
    "plot(y)"
   ]
  },
  {
   "cell_type": "code",
   "execution_count": 88,
   "metadata": {
    "collapsed": false
   },
   "outputs": [
    {
     "ename": "ValueError",
     "evalue": "Unknown wave file format",
     "output_type": "error",
     "traceback": [
      "\u001b[0;31m---------------------------------------------------------------------------\u001b[0m",
      "\u001b[0;31mValueError\u001b[0m                                Traceback (most recent call last)",
      "\u001b[0;32m<ipython-input-88-1ac641a0e5e6>\u001b[0m in \u001b[0;36m<module>\u001b[0;34m()\u001b[0m\n\u001b[1;32m      1\u001b[0m \u001b[1;32mfrom\u001b[0m \u001b[0mscipy\u001b[0m\u001b[1;33m.\u001b[0m\u001b[0mio\u001b[0m \u001b[1;32mimport\u001b[0m \u001b[0mwavfile\u001b[0m\u001b[1;33m\u001b[0m\u001b[0m\n\u001b[0;32m----> 2\u001b[0;31m \u001b[0msrate\u001b[0m\u001b[1;33m,\u001b[0m\u001b[0mdin\u001b[0m \u001b[1;33m=\u001b[0m \u001b[0mwavfile\u001b[0m\u001b[1;33m.\u001b[0m\u001b[0mread\u001b[0m\u001b[1;33m(\u001b[0m\u001b[1;34m'./orig1.WAV'\u001b[0m\u001b[1;33m)\u001b[0m\u001b[1;33m\u001b[0m\u001b[0m\n\u001b[0m",
      "\u001b[0;32mc:\\users\\jonny.wong\\appdata\\local\\programs\\python\\python36-32\\lib\\site-packages\\scipy\\io\\wavfile.py\u001b[0m in \u001b[0;36mread\u001b[0;34m(filename, mmap)\u001b[0m\n\u001b[1;32m    250\u001b[0m             \u001b[1;32mif\u001b[0m \u001b[0mchunk_id\u001b[0m \u001b[1;33m==\u001b[0m \u001b[1;34mb'fmt '\u001b[0m\u001b[1;33m:\u001b[0m\u001b[1;33m\u001b[0m\u001b[0m\n\u001b[1;32m    251\u001b[0m                 \u001b[0mfmt_chunk_received\u001b[0m \u001b[1;33m=\u001b[0m \u001b[1;32mTrue\u001b[0m\u001b[1;33m\u001b[0m\u001b[0m\n\u001b[0;32m--> 252\u001b[0;31m                 \u001b[0mfmt_chunk\u001b[0m \u001b[1;33m=\u001b[0m \u001b[0m_read_fmt_chunk\u001b[0m\u001b[1;33m(\u001b[0m\u001b[0mfid\u001b[0m\u001b[1;33m,\u001b[0m \u001b[0mis_big_endian\u001b[0m\u001b[1;33m)\u001b[0m\u001b[1;33m\u001b[0m\u001b[0m\n\u001b[0m\u001b[1;32m    253\u001b[0m                 \u001b[0mformat_tag\u001b[0m\u001b[1;33m,\u001b[0m \u001b[0mchannels\u001b[0m\u001b[1;33m,\u001b[0m \u001b[0mfs\u001b[0m \u001b[1;33m=\u001b[0m \u001b[0mfmt_chunk\u001b[0m\u001b[1;33m[\u001b[0m\u001b[1;36m1\u001b[0m\u001b[1;33m:\u001b[0m\u001b[1;36m4\u001b[0m\u001b[1;33m]\u001b[0m\u001b[1;33m\u001b[0m\u001b[0m\n\u001b[1;32m    254\u001b[0m                 \u001b[0mbit_depth\u001b[0m \u001b[1;33m=\u001b[0m \u001b[0mfmt_chunk\u001b[0m\u001b[1;33m[\u001b[0m\u001b[1;36m6\u001b[0m\u001b[1;33m]\u001b[0m\u001b[1;33m\u001b[0m\u001b[0m\n",
      "\u001b[0;32mc:\\users\\jonny.wong\\appdata\\local\\programs\\python\\python36-32\\lib\\site-packages\\scipy\\io\\wavfile.py\u001b[0m in \u001b[0;36m_read_fmt_chunk\u001b[0;34m(fid, is_big_endian)\u001b[0m\n\u001b[1;32m     92\u001b[0m \u001b[1;33m\u001b[0m\u001b[0m\n\u001b[1;32m     93\u001b[0m     \u001b[1;32mif\u001b[0m \u001b[0mformat_tag\u001b[0m \u001b[1;32mnot\u001b[0m \u001b[1;32min\u001b[0m \u001b[0mKNOWN_WAVE_FORMATS\u001b[0m\u001b[1;33m:\u001b[0m\u001b[1;33m\u001b[0m\u001b[0m\n\u001b[0;32m---> 94\u001b[0;31m         \u001b[1;32mraise\u001b[0m \u001b[0mValueError\u001b[0m\u001b[1;33m(\u001b[0m\u001b[1;34m\"Unknown wave file format\"\u001b[0m\u001b[1;33m)\u001b[0m\u001b[1;33m\u001b[0m\u001b[0m\n\u001b[0m\u001b[1;32m     95\u001b[0m \u001b[1;33m\u001b[0m\u001b[0m\n\u001b[1;32m     96\u001b[0m     \u001b[1;31m# move file pointer to next chunk\u001b[0m\u001b[1;33m\u001b[0m\u001b[1;33m\u001b[0m\u001b[0m\n",
      "\u001b[0;31mValueError\u001b[0m: Unknown wave file format"
     ]
    }
   ],
   "source": [
    "srate,din = wavfile.read('./orig1.WAV')"
   ]
  },
  {
   "cell_type": "code",
   "execution_count": 91,
   "metadata": {
    "collapsed": true
   },
   "outputs": [],
   "source": [
    "import wave as w"
   ]
  },
  {
   "cell_type": "code",
   "execution_count": 92,
   "metadata": {
    "collapsed": false
   },
   "outputs": [
    {
     "ename": "Error",
     "evalue": "unknown format: 17",
     "output_type": "error",
     "traceback": [
      "\u001b[0;31m---------------------------------------------------------------------------\u001b[0m",
      "\u001b[0;31mError\u001b[0m                                     Traceback (most recent call last)",
      "\u001b[0;32m<ipython-input-92-896489b03ae6>\u001b[0m in \u001b[0;36m<module>\u001b[0;34m()\u001b[0m\n\u001b[0;32m----> 1\u001b[0;31m \u001b[0mw\u001b[0m\u001b[1;33m.\u001b[0m\u001b[0mopen\u001b[0m\u001b[1;33m(\u001b[0m\u001b[1;34m'./orig1.WAV'\u001b[0m\u001b[1;33m)\u001b[0m\u001b[1;33m\u001b[0m\u001b[0m\n\u001b[0m",
      "\u001b[0;32mc:\\users\\jonny.wong\\appdata\\local\\programs\\python\\python36-32\\lib\\wave.py\u001b[0m in \u001b[0;36mopen\u001b[0;34m(f, mode)\u001b[0m\n\u001b[1;32m    497\u001b[0m             \u001b[0mmode\u001b[0m \u001b[1;33m=\u001b[0m \u001b[1;34m'rb'\u001b[0m\u001b[1;33m\u001b[0m\u001b[0m\n\u001b[1;32m    498\u001b[0m     \u001b[1;32mif\u001b[0m \u001b[0mmode\u001b[0m \u001b[1;32min\u001b[0m \u001b[1;33m(\u001b[0m\u001b[1;34m'r'\u001b[0m\u001b[1;33m,\u001b[0m \u001b[1;34m'rb'\u001b[0m\u001b[1;33m)\u001b[0m\u001b[1;33m:\u001b[0m\u001b[1;33m\u001b[0m\u001b[0m\n\u001b[0;32m--> 499\u001b[0;31m         \u001b[1;32mreturn\u001b[0m \u001b[0mWave_read\u001b[0m\u001b[1;33m(\u001b[0m\u001b[0mf\u001b[0m\u001b[1;33m)\u001b[0m\u001b[1;33m\u001b[0m\u001b[0m\n\u001b[0m\u001b[1;32m    500\u001b[0m     \u001b[1;32melif\u001b[0m \u001b[0mmode\u001b[0m \u001b[1;32min\u001b[0m \u001b[1;33m(\u001b[0m\u001b[1;34m'w'\u001b[0m\u001b[1;33m,\u001b[0m \u001b[1;34m'wb'\u001b[0m\u001b[1;33m)\u001b[0m\u001b[1;33m:\u001b[0m\u001b[1;33m\u001b[0m\u001b[0m\n\u001b[1;32m    501\u001b[0m         \u001b[1;32mreturn\u001b[0m \u001b[0mWave_write\u001b[0m\u001b[1;33m(\u001b[0m\u001b[0mf\u001b[0m\u001b[1;33m)\u001b[0m\u001b[1;33m\u001b[0m\u001b[0m\n",
      "\u001b[0;32mc:\\users\\jonny.wong\\appdata\\local\\programs\\python\\python36-32\\lib\\wave.py\u001b[0m in \u001b[0;36m__init__\u001b[0;34m(self, f)\u001b[0m\n\u001b[1;32m    161\u001b[0m         \u001b[1;31m# else, assume it is an open file object already\u001b[0m\u001b[1;33m\u001b[0m\u001b[1;33m\u001b[0m\u001b[0m\n\u001b[1;32m    162\u001b[0m         \u001b[1;32mtry\u001b[0m\u001b[1;33m:\u001b[0m\u001b[1;33m\u001b[0m\u001b[0m\n\u001b[0;32m--> 163\u001b[0;31m             \u001b[0mself\u001b[0m\u001b[1;33m.\u001b[0m\u001b[0minitfp\u001b[0m\u001b[1;33m(\u001b[0m\u001b[0mf\u001b[0m\u001b[1;33m)\u001b[0m\u001b[1;33m\u001b[0m\u001b[0m\n\u001b[0m\u001b[1;32m    164\u001b[0m         \u001b[1;32mexcept\u001b[0m\u001b[1;33m:\u001b[0m\u001b[1;33m\u001b[0m\u001b[0m\n\u001b[1;32m    165\u001b[0m             \u001b[1;32mif\u001b[0m \u001b[0mself\u001b[0m\u001b[1;33m.\u001b[0m\u001b[0m_i_opened_the_file\u001b[0m\u001b[1;33m:\u001b[0m\u001b[1;33m\u001b[0m\u001b[0m\n",
      "\u001b[0;32mc:\\users\\jonny.wong\\appdata\\local\\programs\\python\\python36-32\\lib\\wave.py\u001b[0m in \u001b[0;36minitfp\u001b[0;34m(self, file)\u001b[0m\n\u001b[1;32m    141\u001b[0m             \u001b[0mchunkname\u001b[0m \u001b[1;33m=\u001b[0m \u001b[0mchunk\u001b[0m\u001b[1;33m.\u001b[0m\u001b[0mgetname\u001b[0m\u001b[1;33m(\u001b[0m\u001b[1;33m)\u001b[0m\u001b[1;33m\u001b[0m\u001b[0m\n\u001b[1;32m    142\u001b[0m             \u001b[1;32mif\u001b[0m \u001b[0mchunkname\u001b[0m \u001b[1;33m==\u001b[0m \u001b[1;34mb'fmt '\u001b[0m\u001b[1;33m:\u001b[0m\u001b[1;33m\u001b[0m\u001b[0m\n\u001b[0;32m--> 143\u001b[0;31m                 \u001b[0mself\u001b[0m\u001b[1;33m.\u001b[0m\u001b[0m_read_fmt_chunk\u001b[0m\u001b[1;33m(\u001b[0m\u001b[0mchunk\u001b[0m\u001b[1;33m)\u001b[0m\u001b[1;33m\u001b[0m\u001b[0m\n\u001b[0m\u001b[1;32m    144\u001b[0m                 \u001b[0mself\u001b[0m\u001b[1;33m.\u001b[0m\u001b[0m_fmt_chunk_read\u001b[0m \u001b[1;33m=\u001b[0m \u001b[1;36m1\u001b[0m\u001b[1;33m\u001b[0m\u001b[0m\n\u001b[1;32m    145\u001b[0m             \u001b[1;32melif\u001b[0m \u001b[0mchunkname\u001b[0m \u001b[1;33m==\u001b[0m \u001b[1;34mb'data'\u001b[0m\u001b[1;33m:\u001b[0m\u001b[1;33m\u001b[0m\u001b[0m\n",
      "\u001b[0;32mc:\\users\\jonny.wong\\appdata\\local\\programs\\python\\python36-32\\lib\\wave.py\u001b[0m in \u001b[0;36m_read_fmt_chunk\u001b[0;34m(self, chunk)\u001b[0m\n\u001b[1;32m    258\u001b[0m             \u001b[0mself\u001b[0m\u001b[1;33m.\u001b[0m\u001b[0m_sampwidth\u001b[0m \u001b[1;33m=\u001b[0m \u001b[1;33m(\u001b[0m\u001b[0msampwidth\u001b[0m \u001b[1;33m+\u001b[0m \u001b[1;36m7\u001b[0m\u001b[1;33m)\u001b[0m \u001b[1;33m//\u001b[0m \u001b[1;36m8\u001b[0m\u001b[1;33m\u001b[0m\u001b[0m\n\u001b[1;32m    259\u001b[0m         \u001b[1;32melse\u001b[0m\u001b[1;33m:\u001b[0m\u001b[1;33m\u001b[0m\u001b[0m\n\u001b[0;32m--> 260\u001b[0;31m             \u001b[1;32mraise\u001b[0m \u001b[0mError\u001b[0m\u001b[1;33m(\u001b[0m\u001b[1;34m'unknown format: %r'\u001b[0m \u001b[1;33m%\u001b[0m \u001b[1;33m(\u001b[0m\u001b[0mwFormatTag\u001b[0m\u001b[1;33m,\u001b[0m\u001b[1;33m)\u001b[0m\u001b[1;33m)\u001b[0m\u001b[1;33m\u001b[0m\u001b[0m\n\u001b[0m\u001b[1;32m    261\u001b[0m         \u001b[0mself\u001b[0m\u001b[1;33m.\u001b[0m\u001b[0m_framesize\u001b[0m \u001b[1;33m=\u001b[0m \u001b[0mself\u001b[0m\u001b[1;33m.\u001b[0m\u001b[0m_nchannels\u001b[0m \u001b[1;33m*\u001b[0m \u001b[0mself\u001b[0m\u001b[1;33m.\u001b[0m\u001b[0m_sampwidth\u001b[0m\u001b[1;33m\u001b[0m\u001b[0m\n\u001b[1;32m    262\u001b[0m         \u001b[0mself\u001b[0m\u001b[1;33m.\u001b[0m\u001b[0m_comptype\u001b[0m \u001b[1;33m=\u001b[0m \u001b[1;34m'NONE'\u001b[0m\u001b[1;33m\u001b[0m\u001b[0m\n",
      "\u001b[0;31mError\u001b[0m: unknown format: 17"
     ]
    }
   ],
   "source": [
    "w.open('./orig1.WAV')"
   ]
  },
  {
   "cell_type": "code",
   "execution_count": null,
   "metadata": {
    "collapsed": true
   },
   "outputs": [],
   "source": []
  }
 ],
 "metadata": {
  "kernelspec": {
   "display_name": "Python 3",
   "language": "python",
   "name": "python3"
  },
  "language_info": {
   "codemirror_mode": {
    "name": "ipython",
    "version": 3
   },
   "file_extension": ".py",
   "mimetype": "text/x-python",
   "name": "python",
   "nbconvert_exporter": "python",
   "pygments_lexer": "ipython3",
   "version": "3.6.0"
  }
 },
 "nbformat": 4,
 "nbformat_minor": 2
}
