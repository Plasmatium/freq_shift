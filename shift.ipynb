{
 "cells": [
  {
   "cell_type": "code",
   "execution_count": 1,
   "metadata": {
    "collapsed": false
   },
   "outputs": [
    {
     "name": "stderr",
     "output_type": "stream",
     "text": [
      "c:\\users\\jonny.wong\\appdata\\local\\programs\\python\\python36-32\\lib\\site-packages\\ipykernel\\__main__.py:2: DeprecationWarning: `Tracer` is deprecated since version 5.1, directly use `IPython.core.debugger.Pdb.set_trace()`\n",
      "  from ipykernel import kernelapp as app\n"
     ]
    }
   ],
   "source": [
    "from IPython.core.debugger import Tracer\n",
    "set_trace = Tracer()"
   ]
  },
  {
   "cell_type": "code",
   "execution_count": 2,
   "metadata": {
    "collapsed": false,
    "deletable": true,
    "editable": true
   },
   "outputs": [
    {
     "name": "stdout",
     "output_type": "stream",
     "text": [
      "Using matplotlib backend: TkAgg\n"
     ]
    }
   ],
   "source": [
    "import numpy as np\n",
    "%matplotlib\n",
    "from pylab import *\n",
    "pi = np.pi\n",
    "e = np.e\n",
    "fft = np.fft.fft\n",
    "sin = np.sin"
   ]
  },
  {
   "cell_type": "code",
   "execution_count": null,
   "metadata": {
    "collapsed": true,
    "deletable": true,
    "editable": true
   },
   "outputs": [],
   "source": [
    "def get5(a):\n",
    "    return a[110:115]"
   ]
  },
  {
   "cell_type": "code",
   "execution_count": null,
   "metadata": {
    "collapsed": true,
    "deletable": true,
    "editable": true
   },
   "outputs": [],
   "source": [
    "a = np.arange(0,1,1/44100)\n",
    "fs = 44.1*1000\n",
    "framesize = 2048\n",
    "fb = fs/framesize"
   ]
  },
  {
   "cell_type": "code",
   "execution_count": null,
   "metadata": {
    "collapsed": false,
    "deletable": true,
    "editable": true
   },
   "outputs": [],
   "source": [
    "fres1 = fb*112\n",
    "fres2 = fb*112.2\n",
    "fres3 = fb*112.49\n",
    "fres4 = fb*112.50"
   ]
  },
  {
   "cell_type": "code",
   "execution_count": null,
   "metadata": {
    "collapsed": true,
    "deletable": true,
    "editable": true
   },
   "outputs": [],
   "source": [
    "class Ps:\n",
    "    def __init__(self, freq):\n",
    "        for i in range(5):\n",
    "            key = 'c'+str(i)\n",
    "            data = sin(2*pi*freq*a[2048*i:2048*(i+1)])\n",
    "            self.__dict__.update({key:data})\n",
    "            \n",
    "            key = 'fft'+str(i)\n",
    "            fft_data = fft(data)\n",
    "            self.__dict__.update({key: fft_data})  "
   ]
  },
  {
   "cell_type": "code",
   "execution_count": null,
   "metadata": {
    "collapsed": true,
    "deletable": true,
    "editable": true
   },
   "outputs": [],
   "source": [
    "def get5ang(d):\n",
    "    ang = []\n",
    "    for i in range(5):\n",
    "        key = 'fft'+str(i)\n",
    "        data = d.__dict__[key][110:115]\n",
    "        ang.append(np.angle(data))\n",
    "    return ang\n",
    "\n",
    "def diff(ang):\n",
    "    return [np.round(ang[i+1]-ang[i],6) for i in range(len(ang)-1)]"
   ]
  },
  {
   "cell_type": "code",
   "execution_count": 131,
   "metadata": {
    "collapsed": true,
    "deletable": true,
    "editable": true
   },
   "outputs": [],
   "source": [
    "gtmp = 0\n",
    "def ana(audioData, spRate=44100, frameSize=2048, ovrSmp=4):   \n",
    "    stepSize = int(frameSize/ovrSmp)\n",
    "    freqPerBin = spRate/frameSize\n",
    "    expct = 2.0*pi*(stepSize/frameSize)\n",
    "    \n",
    "    # split the data\n",
    "    blocks = int(len(audioData)/stepSize)\n",
    "    dataFrames = [audioData[stepSize*n:(stepSize*n+frameSize)] for n in range(blocks)]\n",
    "    rsltFrames = [0.]*blocks\n",
    "    gSumPhase = np.array([0.]*frameSize)\n",
    "    \n",
    "    # analysis\n",
    "    lastPhase = np.array([0.]*frameSize)\n",
    "    k_range = np.arange(0,frameSize,1)\n",
    "    for idx, frame in enumerate(dataFrames):\n",
    "        fftData = fft(frame)\n",
    "        M.append(frame)\n",
    "        magn = 2*abs(fftData)\n",
    "        phase = np.angle(fftData)\n",
    "        \n",
    "        tmp = phase - lastPhase\n",
    "        lastPhase = phase\n",
    "        \n",
    "        tmp -= k_range*expct\n",
    "\n",
    "        thePhase = tmp\n",
    "        theMagn = magn\n",
    "\n",
    "        # about qpd is:\n",
    "        # -7 to -8, 7 to 8;\n",
    "        # -4 to -4, 4 to 4;\n",
    "        qpd = (tmp/pi).astype(int)\n",
    "        qpd += np.sign(qpd)*(qpd&1)\n",
    "        tmp -= pi*qpd # here tmp is in -pi~pi\n",
    "\n",
    "        tmp = ovrSmp*tmp/(2*pi)\n",
    "\n",
    "        theFreq = (k_range + tmp)*freqPerBin\n",
    "\n",
    "        #===============================\n",
    "        # We got theFreq theMagn and thePhase here.\n",
    "        # Do something with theFreq, and then synthesis\n",
    "        # new complex array (with Euler's formula：\n",
    "        # magn * e ** (angle * pi))\n",
    "\n",
    "        lambda x:x(theFreq)\n",
    "\n",
    "        #set_trace()\n",
    "        # Calc new phase\n",
    "        tmp = theFreq\n",
    "        tmp = tmp/freqPerBin - k_range\n",
    "        tmp = 2*pi*ovrSmp + k_range*expct\n",
    "        gSumPhase += tmp\n",
    "        thePhase = gSumPhase\n",
    "        \n",
    "        rsltFrames[idx] = theMagn*e**(thePhase*1j)\n",
    "        #########\n",
    "        #gtmp = rsltFrames[idx]\n",
    "        #break\n",
    "        #########\n",
    "    global gtmp\n",
    "    gtmp = M\n",
    "    return np.concatenate(rsltFrames)"
   ]
  },
  {
   "cell_type": "code",
   "execution_count": 132,
   "metadata": {
    "collapsed": false
   },
   "outputs": [],
   "source": [
    "x = np.arange(0,1,1/44100)\n",
    "y = np.sin(2*pi*2400*x)\n",
    "#plot(x,y)"
   ]
  },
  {
   "cell_type": "code",
   "execution_count": 133,
   "metadata": {
    "collapsed": false,
    "scrolled": true
   },
   "outputs": [
    {
     "data": {
      "text/plain": [
       "[<matplotlib.lines.Line2D at 0xf803e10>]"
      ]
     },
     "execution_count": 133,
     "metadata": {},
     "output_type": "execute_result"
    }
   ],
   "source": [
    "ay = ana(y,ovrSmp=1)\n",
    "plot(abs(ay))"
   ]
  },
  {
   "cell_type": "code",
   "execution_count": 128,
   "metadata": {
    "collapsed": false
   },
   "outputs": [
    {
     "data": {
      "text/plain": [
       "[<matplotlib.lines.Line2D at 0xf4f4150>]"
      ]
     },
     "execution_count": 128,
     "metadata": {},
     "output_type": "execute_result"
    }
   ],
   "source": [
    "plot(abs(np.fft.ifft(ay)))"
   ]
  },
  {
   "cell_type": "code",
   "execution_count": 70,
   "metadata": {
    "collapsed": false
   },
   "outputs": [
    {
     "data": {
      "text/plain": [
       "44100.000001076536"
      ]
     },
     "execution_count": 70,
     "metadata": {},
     "output_type": "execute_result"
    }
   ],
   "source": [
    "sum(abs(fft(y)))"
   ]
  },
  {
   "cell_type": "code",
   "execution_count": null,
   "metadata": {
    "collapsed": false
   },
   "outputs": [],
   "source": [
    "y.astype(int)"
   ]
  },
  {
   "cell_type": "code",
   "execution_count": null,
   "metadata": {
    "collapsed": false,
    "deletable": true,
    "editable": true
   },
   "outputs": [],
   "source": [
    "d1 = Ps(fres1)\n",
    "d2 = Ps(fres2)\n",
    "d3 = Ps(fres3)\n",
    "d4 = Ps(fres4)\n",
    "\n",
    "ag1, ag2, ag3, ag4 = [get5ang(d) for d in (d1, d2, d3, d4)]\n",
    "dag1, dag2, dag3, dag4 = [diff(d) for d in (ag1, ag2, ag3, ag4)]"
   ]
  },
  {
   "cell_type": "code",
   "execution_count": null,
   "metadata": {
    "collapsed": false,
    "deletable": true,
    "editable": true
   },
   "outputs": [],
   "source": [
    "dag1"
   ]
  },
  {
   "cell_type": "code",
   "execution_count": null,
   "metadata": {
    "collapsed": false,
    "deletable": true,
    "editable": true
   },
   "outputs": [],
   "source": [
    "dag2"
   ]
  },
  {
   "cell_type": "code",
   "execution_count": null,
   "metadata": {
    "collapsed": false,
    "deletable": true,
    "editable": true
   },
   "outputs": [],
   "source": [
    "dag3"
   ]
  },
  {
   "cell_type": "code",
   "execution_count": null,
   "metadata": {
    "collapsed": false,
    "deletable": true,
    "editable": true
   },
   "outputs": [],
   "source": [
    "dag4"
   ]
  },
  {
   "cell_type": "code",
   "execution_count": null,
   "metadata": {
    "collapsed": false,
    "deletable": true,
    "editable": true,
    "scrolled": false
   },
   "outputs": [],
   "source": [
    "ag2"
   ]
  },
  {
   "cell_type": "code",
   "execution_count": null,
   "metadata": {
    "collapsed": false,
    "deletable": true,
    "editable": true
   },
   "outputs": [],
   "source": [
    "plot(abs(fFT))"
   ]
  },
  {
   "cell_type": "code",
   "execution_count": null,
   "metadata": {
    "collapsed": false,
    "deletable": true,
    "editable": true
   },
   "outputs": [],
   "source": [
    "plot(abs(rFFT))"
   ]
  },
  {
   "cell_type": "code",
   "execution_count": null,
   "metadata": {
    "collapsed": false,
    "deletable": true,
    "editable": true
   },
   "outputs": [],
   "source": [
    "fFT"
   ]
  },
  {
   "cell_type": "code",
   "execution_count": null,
   "metadata": {
    "collapsed": false,
    "deletable": true,
    "editable": true
   },
   "outputs": [],
   "source": [
    "rFFT"
   ]
  },
  {
   "cell_type": "code",
   "execution_count": null,
   "metadata": {
    "collapsed": false,
    "deletable": true,
    "editable": true
   },
   "outputs": [],
   "source": [
    "np.allclose(fFT[0:int(len(fFT)/2)], rFFT[0:-1])"
   ]
  }
 ],
 "metadata": {
  "kernelspec": {
   "display_name": "Python 3",
   "language": "python",
   "name": "python3"
  },
  "language_info": {
   "codemirror_mode": {
    "name": "ipython",
    "version": 3
   },
   "file_extension": ".py",
   "mimetype": "text/x-python",
   "name": "python",
   "nbconvert_exporter": "python",
   "pygments_lexer": "ipython3",
   "version": "3.6.0"
  }
 },
 "nbformat": 4,
 "nbformat_minor": 2
}
